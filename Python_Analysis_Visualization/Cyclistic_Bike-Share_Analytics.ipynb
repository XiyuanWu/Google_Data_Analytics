{
 "cells": [
  {
   "cell_type": "markdown",
   "metadata": {},
   "source": [
    "# Cyclistic Bike-Share Analytics: Uncovering Rider Behaviors\n",
    "\n",
    "## Recap From Last Time\n",
    "\n",
    "Before, we analyzed this project by using a spreadsheet. But spreadsheets can\"t handle massive amounts of data, so we only analyzed data for one month(Jan 2023). This time, we will analyze the whole 2023 year data by using Python and visualization. Although the marketing director wants to convert Casual Riders into annual Members, enhancing growth and profitability, this differs from the question document assigned to us. So, we will keep exploring the same question from last time: **\"How do annual members and casual riders utilize Cyclistic bikes differently?\"**\n",
    "\n",
    "## Background Information \n",
    "\n",
    "Cyclistic, a bike-share company in Chicago. The director of marketing believes the company’s future success depends on maximizing the number of annual memberships. Therefore, your team wants to understand how casual riders and annual members use Cyclistic bikes differently. From these insights, your team will design a new marketing strategy to convert casual riders into annual members. But first, Cyclistic executives must approve your recommendations, so they must be backed up with compelling data insights and professional data visualizations.\n",
    "\n",
    "Key information includes:\n",
    "\n",
    "- **Cyclistic:** A bike-share company based in Chicago with a range of bicycles, including accessible options.\n",
    "- **Users:** Primarily Casual Riders (single-ride or full-day pass users) and Members (annual membership holders).\n",
    "- **Goal:** To convert Casual Riders into annual Members, enhancing growth and profitability.\n",
    "\n",
    "## Step Approach\n",
    "\n",
    "To complete this analysis, we will follow five steps below: \n",
    "- Step 1: Ask a question\n",
    "- Step 2: Data Collection\n",
    "- Step 3: Data Process and Cleaning\n",
    "    - Data Overview\n",
    "    - Data Cleaning\n",
    "        - Missing Value\n",
    "        - Outliers\n",
    "        - Duplicated\n",
    "- Step 4: Data analysis\n",
    "- Step 5: Data Visualization and conclusion\n",
    "\n",
    "\n",
    "Now, Let\"s start our Python Analysis journey!"
   ]
  },
  {
   "cell_type": "markdown",
   "metadata": {},
   "source": [
    "## Step 1: Ask a Question\n",
    "\n",
    "The guiding question for the analysis is\n",
    "\n",
    "**How do annual members and casual riders utilize Cyclistic bikes differently?**"
   ]
  },
  {
   "cell_type": "markdown",
   "metadata": {},
   "source": [
    "## Step 2: Data Collection\n",
    "\n",
    "Since data is given, so we are skip this step. "
   ]
  },
  {
   "cell_type": "markdown",
   "metadata": {},
   "source": [
    "## Step 3: Data Process and Cleaning\n",
    "\n",
    "### 3.1 Import and Load\n",
    "Let\"s do some prepare by import module and file."
   ]
  },
  {
   "cell_type": "code",
   "execution_count": 1,
   "metadata": {},
   "outputs": [
    {
     "name": "stderr",
     "output_type": "stream",
     "text": [
      "/tmp/ipykernel_16179/777269988.py:3: DeprecationWarning: \n",
      "Pyarrow will become a required dependency of pandas in the next major release of pandas (pandas 3.0),\n",
      "(to allow more performant data types, such as the Arrow string type, and better interoperability with other libraries)\n",
      "but was not found to be installed on your system.\n",
      "If this would cause problems for you,\n",
      "please provide us feedback at https://github.com/pandas-dev/pandas/issues/54466\n",
      "        \n",
      "  import pandas as pd\n"
     ]
    }
   ],
   "source": [
    "# Import module\n",
    "import numpy as np\n",
    "import pandas as pd\n",
    "import matplotlib.pyplot as plt"
   ]
  },
  {
   "cell_type": "code",
   "execution_count": 2,
   "metadata": {},
   "outputs": [],
   "source": [
    "# Read in all data from Jan 2023 - Nov 2023\n",
    "import pandas as pd\n",
    "\n",
    "dataframes = []  # List to store all dataframes\n",
    "\n",
    "for i in range(1, 12):\n",
    "    month = f\"{i:02}\"  # Formats the month with a leading zero if necessary\n",
    "    filename = f\"DataSet/2023{month}-divvy-tripdata.csv\"\n",
    "    data = pd.read_csv(filename)\n",
    "    dataframes.append(data)\n",
    "\n",
    "# Combine all DataFrames into one\n",
    "df = pd.concat(dataframes, ignore_index=True)\n"
   ]
  },
  {
   "cell_type": "markdown",
   "metadata": {},
   "source": [
    "### 3.2 Data Overview\n",
    "\n",
    "We begin the data process and cleaning by examining the data first."
   ]
  },
  {
   "cell_type": "code",
   "execution_count": 3,
   "metadata": {},
   "outputs": [
    {
     "name": "stdout",
     "output_type": "stream",
     "text": [
      "<class 'pandas.core.frame.DataFrame'>\n",
      "RangeIndex: 5495804 entries, 0 to 5495803\n",
      "Data columns (total 13 columns):\n",
      " #   Column              Dtype  \n",
      "---  ------              -----  \n",
      " 0   ride_id             object \n",
      " 1   rideable_type       object \n",
      " 2   started_at          object \n",
      " 3   ended_at            object \n",
      " 4   start_station_name  object \n",
      " 5   start_station_id    object \n",
      " 6   end_station_name    object \n",
      " 7   end_station_id      object \n",
      " 8   start_lat           float64\n",
      " 9   start_lng           float64\n",
      " 10  end_lat             float64\n",
      " 11  end_lng             float64\n",
      " 12  member_casual       object \n",
      "dtypes: float64(4), object(9)\n",
      "memory usage: 545.1+ MB\n"
     ]
    }
   ],
   "source": [
    "# Combine Successfully!\n",
    "# Now let\"s examine data\n",
    "df.info(verbose=True)"
   ]
  },
  {
   "cell_type": "markdown",
   "metadata": {},
   "source": [
    "For some reason(maybe file too big), info() function can\"t show how many rows for each columns. So we will use another way."
   ]
  },
  {
   "cell_type": "code",
   "execution_count": 4,
   "metadata": {},
   "outputs": [
    {
     "name": "stdout",
     "output_type": "stream",
     "text": [
      "ride_id               5495804\n",
      "rideable_type         5495804\n",
      "started_at            5495804\n",
      "ended_at              5495804\n",
      "start_station_name    4655798\n",
      "start_station_id      4655666\n",
      "end_station_name      4604526\n",
      "end_station_id        4604385\n",
      "start_lat             5495804\n",
      "start_lng             5495804\n",
      "end_lat               5489053\n",
      "end_lng               5489053\n",
      "member_casual         5495804\n",
      "dtype: int64\n"
     ]
    }
   ],
   "source": [
    "# Calculate non-null counts for each column\n",
    "non_null_counts = df.notnull().sum()\n",
    "print(non_null_counts)"
   ]
  },
  {
   "cell_type": "markdown",
   "metadata": {},
   "source": [
    "\n",
    "As we can see, there is indeed some value that needs to be added. So, we are in the next step: Data Cleaning. \n",
    "\n",
    "### 3.3 Data Cleaning\n",
    "\n",
    "To do Data Cleaning, we must follow those three steps in order:\n",
    "- Missing values\n",
    "- Outliers \n",
    "- Duplicates\n",
    "\n",
    "#### 3.3.1 Missing values\n",
    "\n",
    "That\"s check missing value first. Recap of our question: We want to explore different use patterns between the members and casual users. So we don\"t need any info about the map, such as station and latitude/longitude, ride id is not unique, too. This decision also helps reduce data size. The columns are delete is: \n",
    "```\"ride_id\", \"start_station_name\", \"start_station_id\", \"end_station_name\", \"end_station_id\", \"start_lat\", \"start_lng\", \"end_lat\", \"end_lng\"```"
   ]
  },
  {
   "cell_type": "code",
   "execution_count": 5,
   "metadata": {},
   "outputs": [
    {
     "name": "stdout",
     "output_type": "stream",
     "text": [
      "<class 'pandas.core.frame.DataFrame'>\n",
      "RangeIndex: 5495804 entries, 0 to 5495803\n",
      "Data columns (total 4 columns):\n",
      " #   Column         Dtype \n",
      "---  ------         ----- \n",
      " 0   rideable_type  object\n",
      " 1   started_at     object\n",
      " 2   ended_at       object\n",
      " 3   member_casual  object\n",
      "dtypes: object(4)\n",
      "memory usage: 167.7+ MB\n"
     ]
    }
   ],
   "source": [
    "# Columns to be dropped\n",
    "columns_to_drop = [\"ride_id\", \n",
    "                   \"start_station_name\", \"start_station_id\", \n",
    "                   \"end_station_name\", \"end_station_id\", \n",
    "                   \"start_lat\", \"start_lng\", \n",
    "                   \"end_lat\", \"end_lng\"]\n",
    "\n",
    "# Drop the columns from the DataFrame\n",
    "df = df.drop(columns=columns_to_drop, axis=1)\n",
    "\n",
    "# Verify the columns have been dropped\n",
    "df.info()"
   ]
  },
  {
   "cell_type": "code",
   "execution_count": 6,
   "metadata": {},
   "outputs": [
    {
     "data": {
      "text/plain": [
       "rideable_type    5495804\n",
       "started_at       5495804\n",
       "ended_at         5495804\n",
       "member_casual    5495804\n",
       "dtype: int64"
      ]
     },
     "execution_count": 6,
     "metadata": {},
     "output_type": "execute_result"
    }
   ],
   "source": [
    "# It seems like info() function don't show how many rows for each columns again.\n",
    "non_null_counts_update = df.notnull().sum()\n",
    "non_null_counts_update"
   ]
  },
  {
   "cell_type": "markdown",
   "metadata": {},
   "source": [
    "After we got the columns we needed, examining the data again, we saw no missing values. So we can go to the next step: check outliers. \n",
    "\n",
    "#### 3.3.2 Outliers\n",
    "\n",
    "Check if data is outliers. \n",
    "Notes: Outliers refer to unreasonable values in the data. This unreasonable value usually requires one's own judgment on the data set to obtain it."
   ]
  },
  {
   "cell_type": "code",
   "execution_count": 7,
   "metadata": {},
   "outputs": [
    {
     "data": {
      "text/plain": [
       "0"
      ]
     },
     "execution_count": 7,
     "metadata": {},
     "output_type": "execute_result"
    }
   ],
   "source": [
    "# Check if invalid value exist in columns \"member_casual\"\n",
    "invalid_user_types_count = df[~df[\"member_casual\"].isin([\"casual\", \"member\"])].shape[0]\n",
    "invalid_user_types_count"
   ]
  },
  {
   "cell_type": "code",
   "execution_count": 8,
   "metadata": {},
   "outputs": [
    {
     "data": {
      "text/plain": [
       "0"
      ]
     },
     "execution_count": 8,
     "metadata": {},
     "output_type": "execute_result"
    }
   ],
   "source": [
    "# Check if invalid value exist in columns \"rideable_type\"\n",
    "valid_rideable_types = [\"electric_bike\", \"classic_bike\", \"docked_bike\"]\n",
    "invalid_rideable_types_count = df[~df[\"rideable_type\"].isin(valid_rideable_types)].shape[0]\n",
    "invalid_rideable_types_count"
   ]
  },
  {
   "cell_type": "markdown",
   "metadata": {},
   "source": [
    "Next, we need check for time. End time must be greater than start time. Otherwise, it's outlier."
   ]
  },
  {
   "cell_type": "code",
   "execution_count": 9,
   "metadata": {},
   "outputs": [
    {
     "data": {
      "text/plain": [
       "Index([   3315,   11267,   13354,   67062,  111486,  112992,  124796,  124849,\n",
       "        204036,  204063,\n",
       "       ...\n",
       "       5459499, 5460738, 5463750, 5465158, 5468330, 5473852, 5474975, 5483380,\n",
       "       5484563, 5489508],\n",
       "      dtype='int64', length=1214)"
      ]
     },
     "execution_count": 9,
     "metadata": {},
     "output_type": "execute_result"
    }
   ],
   "source": [
    "# Transfer from string format to time format\n",
    "df[\"started_at\"] = pd.to_datetime(df[\"started_at\"])\n",
    "df[\"ended_at\"] = pd.to_datetime(df[\"ended_at\"])\n",
    "\n",
    "# Count the number of trips where the end time is not greater than the start time\n",
    "invalid_durations = df[df[\"ended_at\"] <= df[\"started_at\"]].index\n",
    "invalid_durations"
   ]
  },
  {
   "cell_type": "markdown",
   "metadata": {},
   "source": [
    "Woops! There are 1214 outliers, it means there are 1214 entries of data start time is greater than end time, which is impossible. We need drop them. \n"
   ]
  },
  {
   "cell_type": "code",
   "execution_count": 10,
   "metadata": {},
   "outputs": [],
   "source": [
    "# Delete outliers values\n",
    "df.drop(index= invalid_durations, inplace= True)"
   ]
  },
  {
   "cell_type": "markdown",
   "metadata": {},
   "source": [
    "Next, we check Trip Duration, see if any outliers.\n"
   ]
  },
  {
   "cell_type": "code",
   "execution_count": 11,
   "metadata": {},
   "outputs": [
    {
     "data": {
      "text/plain": [
       "0         0 days 00:10:51\n",
       "1         0 days 00:08:29\n",
       "2         0 days 00:13:14\n",
       "3         0 days 00:08:46\n",
       "4         0 days 00:15:19\n",
       "                ...      \n",
       "5495799   0 days 00:07:36\n",
       "5495800   0 days 00:02:40\n",
       "5495801   0 days 00:08:58\n",
       "5495802   0 days 00:02:00\n",
       "5495803   0 days 00:01:40\n",
       "Name: Trip Duration, Length: 5494590, dtype: timedelta64[ns]"
      ]
     },
     "execution_count": 11,
     "metadata": {},
     "output_type": "execute_result"
    }
   ],
   "source": [
    "# Create a new columns call \"Trip Duration\"\n",
    "df[\"Trip Duration\"] = df[\"ended_at\"] - df[\"started_at\"]\n",
    "df[\"Trip Duration\"]"
   ]
  },
  {
   "cell_type": "markdown",
   "metadata": {},
   "source": [
    "Let's find Max and Min ride length."
   ]
  },
  {
   "cell_type": "code",
   "execution_count": 12,
   "metadata": {},
   "outputs": [
    {
     "name": "stdout",
     "output_type": "stream",
     "text": [
      "68 days 09:29:04\n",
      "0 days 00:00:01\n"
     ]
    }
   ],
   "source": [
    "print(df[\"Trip Duration\"].max())\n",
    "print(df[\"Trip Duration\"].min())"
   ]
  },
  {
   "cell_type": "markdown",
   "metadata": {},
   "source": [
    "As we can see, the max ride length is 68 days, 9 hours, 29 mins, and 4 seconds, and the minimum ride length is only 1 second. Those data do NOT make sense; it's an outlier. \n",
    "\n",
    "So we have to set a limit here. Combined with the actual situation and my opinion, I will put the minimum ride length to at least 5 minutes and the max ride length of 12 hours (720 mins)."
   ]
  },
  {
   "cell_type": "code",
   "execution_count": 13,
   "metadata": {},
   "outputs": [],
   "source": [
    "# Define the minimum and maximum durations in minutes\n",
    "min_duration = pd.Timedelta(\"5 minutes\")\n",
    "max_duration = pd.Timedelta(\"12 hours\")\n",
    "\n",
    "# Filter the DataFrame for trips with durations within the specified range\n",
    "df_filtered = df[(df[\"Trip Duration\"] >= min_duration) & (df[\"Trip Duration\"] <= max_duration)]\n",
    "\n",
    "# df_filtered contains only the trips that are between 5 minutes and 12 hours"
   ]
  },
  {
   "cell_type": "markdown",
   "metadata": {},
   "source": [
    "### 3.3.3 Duplicates\n",
    "\n",
    "Check if values contains duplicates."
   ]
  },
  {
   "cell_type": "code",
   "execution_count": 14,
   "metadata": {},
   "outputs": [
    {
     "data": {
      "text/plain": [
       "142"
      ]
     },
     "execution_count": 14,
     "metadata": {},
     "output_type": "execute_result"
    }
   ],
   "source": [
    "duplicates = df_filtered.duplicated()\n",
    "\n",
    "num_duplicates = duplicates.sum()\n",
    "num_duplicates"
   ]
  },
  {
   "cell_type": "markdown",
   "metadata": {},
   "source": [
    "As we can see, there are 142 duplicated, we need delete them.\n"
   ]
  },
  {
   "cell_type": "code",
   "execution_count": 15,
   "metadata": {},
   "outputs": [
    {
     "name": "stderr",
     "output_type": "stream",
     "text": [
      "/tmp/ipykernel_16179/2274477760.py:2: SettingWithCopyWarning: \n",
      "A value is trying to be set on a copy of a slice from a DataFrame\n",
      "\n",
      "See the caveats in the documentation: https://pandas.pydata.org/pandas-docs/stable/user_guide/indexing.html#returning-a-view-versus-a-copy\n",
      "  df_filtered.drop(index= num_duplicates, inplace = True)\n"
     ]
    }
   ],
   "source": [
    "# Delete duplicated\n",
    "df_filtered.drop(index= num_duplicates, inplace = True)"
   ]
  },
  {
   "cell_type": "markdown",
   "metadata": {},
   "source": [
    "\n",
    "By now, we can make sure the data is immaculate and process successfully, we are officially finished with the data process and cleaning. Let's re-examine data again.\n"
   ]
  },
  {
   "cell_type": "code",
   "execution_count": 16,
   "metadata": {},
   "outputs": [
    {
     "data": {
      "text/plain": [
       "rideable_type    5494590\n",
       "started_at       5494590\n",
       "ended_at         5494590\n",
       "member_casual    5494590\n",
       "Trip Duration    5494590\n",
       "dtype: int64"
      ]
     },
     "execution_count": 16,
     "metadata": {},
     "output_type": "execute_result"
    }
   ],
   "source": [
    "non_null_counts_v2 = df.notnull().sum()\n",
    "non_null_counts_v2"
   ]
  },
  {
   "cell_type": "markdown",
   "metadata": {},
   "source": [
    "Let's move on to the next step: data analysis!"
   ]
  },
  {
   "cell_type": "markdown",
   "metadata": {},
   "source": [
    "## Step 4: Data analysis"
   ]
  },
  {
   "cell_type": "markdown",
   "metadata": {},
   "source": [
    "### 4.1 Proportion\n",
    "\n",
    "In this part, we will find Proportion for casual/member and Proportion for rideable type, and BOTH.\n",
    "\n",
    "Calculate Proportion between casual and member user"
   ]
  },
  {
   "cell_type": "code",
   "execution_count": 17,
   "metadata": {},
   "outputs": [
    {
     "name": "stdout",
     "output_type": "stream",
     "text": [
      "member_casual\n",
      "member    2606295\n",
      "casual    1684427\n",
      "Name: count, dtype: int64\n",
      "\n",
      "member_casual\n",
      "member    0.607426\n",
      "casual    0.392574\n",
      "Name: proportion, dtype: float64\n"
     ]
    }
   ],
   "source": [
    "number_counts = df_filtered[\"member_casual\"].value_counts()\n",
    "ratio_counts = df_filtered[\"member_casual\"].value_counts(normalize= True)\n",
    "\n",
    "print(number_counts)\n",
    "print()\n",
    "print(ratio_counts)"
   ]
  },
  {
   "cell_type": "markdown",
   "metadata": {},
   "source": [
    "Calculate ratio for rideable type"
   ]
  },
  {
   "cell_type": "code",
   "execution_count": 18,
   "metadata": {},
   "outputs": [
    {
     "name": "stdout",
     "output_type": "stream",
     "text": [
      "rideable_type\n",
      "electric_bike    2130134\n",
      "classic_bike     2087237\n",
      "docked_bike        73351\n",
      "Name: count, dtype: int64\n",
      "\n",
      "rideable_type\n",
      "electric_bike    0.496451\n",
      "classic_bike     0.486454\n",
      "docked_bike      0.017095\n",
      "Name: proportion, dtype: float64\n"
     ]
    }
   ],
   "source": [
    "num_rideable = df_filtered[\"rideable_type\"].value_counts()\n",
    "ratio_rideable = df_filtered[\"rideable_type\"].value_counts(normalize= True)\n",
    "\n",
    "print(num_rideable)\n",
    "print()\n",
    "print(ratio_rideable)"
   ]
  },
  {
   "cell_type": "markdown",
   "metadata": {},
   "source": [
    "Calculate rideable type by both users"
   ]
  },
  {
   "cell_type": "code",
   "execution_count": 19,
   "metadata": {},
   "outputs": [
    {
     "data": {
      "text/html": [
       "<div>\n",
       "<style scoped>\n",
       "    .dataframe tbody tr th:only-of-type {\n",
       "        vertical-align: middle;\n",
       "    }\n",
       "\n",
       "    .dataframe tbody tr th {\n",
       "        vertical-align: top;\n",
       "    }\n",
       "\n",
       "    .dataframe thead th {\n",
       "        text-align: right;\n",
       "    }\n",
       "</style>\n",
       "<table border=\"1\" class=\"dataframe\">\n",
       "  <thead>\n",
       "    <tr style=\"text-align: right;\">\n",
       "      <th>member_casual</th>\n",
       "      <th>casual</th>\n",
       "      <th>member</th>\n",
       "    </tr>\n",
       "    <tr>\n",
       "      <th>rideable_type</th>\n",
       "      <th></th>\n",
       "      <th></th>\n",
       "    </tr>\n",
       "  </thead>\n",
       "  <tbody>\n",
       "    <tr>\n",
       "      <th>classic_bike</th>\n",
       "      <td>0.363449</td>\n",
       "      <td>0.636551</td>\n",
       "    </tr>\n",
       "    <tr>\n",
       "      <th>docked_bike</th>\n",
       "      <td>1.000000</td>\n",
       "      <td>NaN</td>\n",
       "    </tr>\n",
       "    <tr>\n",
       "      <th>electric_bike</th>\n",
       "      <td>0.400196</td>\n",
       "      <td>0.599804</td>\n",
       "    </tr>\n",
       "  </tbody>\n",
       "</table>\n",
       "</div>"
      ],
      "text/plain": [
       "member_casual    casual    member\n",
       "rideable_type                    \n",
       "classic_bike   0.363449  0.636551\n",
       "docked_bike    1.000000       NaN\n",
       "electric_bike  0.400196  0.599804"
      ]
     },
     "execution_count": 19,
     "metadata": {},
     "output_type": "execute_result"
    }
   ],
   "source": [
    "rideable_user_ratio = df_filtered.groupby(\"rideable_type\")[\"member_casual\"].value_counts(normalize=True).unstack()\n",
    "rideable_user_ratio"
   ]
  },
  {
   "cell_type": "markdown",
   "metadata": {},
   "source": [
    "### 4.2 Trip Duration\n",
    "\n",
    "In this part, we will calculate Trip Duration, Trip Duration for both users, and their average time, average time for both users\n",
    "\n",
    "Calculate Trip Duration for BOTH casual and member user"
   ]
  },
  {
   "cell_type": "code",
   "execution_count": 20,
   "metadata": {},
   "outputs": [
    {
     "name": "stdout",
     "output_type": "stream",
     "text": [
      "0                     NaT\n",
      "1                     NaT\n",
      "2         0 days 00:13:14\n",
      "3                     NaT\n",
      "4                     NaT\n",
      "                ...      \n",
      "5495799               NaT\n",
      "5495800               NaT\n",
      "5495801               NaT\n",
      "5495802               NaT\n",
      "5495803               NaT\n",
      "Name: Trip Duration(Casual), Length: 5494590, dtype: timedelta64[ns]\n",
      "0         0 days 00:10:51\n",
      "1         0 days 00:08:29\n",
      "2                     NaT\n",
      "3         0 days 00:08:46\n",
      "4         0 days 00:15:19\n",
      "                ...      \n",
      "5495799   0 days 00:07:36\n",
      "5495800               NaT\n",
      "5495801   0 days 00:08:58\n",
      "5495802               NaT\n",
      "5495803               NaT\n",
      "Name: Trip Duration(Member), Length: 5494590, dtype: timedelta64[ns]\n"
     ]
    }
   ],
   "source": [
    "# Calculate Trip Duration for BOTH casual and member user\n",
    "df[\"Trip Duration(Casual)\"] = df_filtered[\"Trip Duration\"].where(df[\"member_casual\"] == \"casual\")\n",
    "df[\"Trip Duration(Member)\"] = df_filtered[\"Trip Duration\"].where(df[\"member_casual\"] == \"member\")\n",
    "\n",
    "print(df[\"Trip Duration(Casual)\"])\n",
    "print(df[\"Trip Duration(Member)\"])"
   ]
  },
  {
   "cell_type": "markdown",
   "metadata": {},
   "source": [
    "Calculate average ride time for BOTH types of users in 2023"
   ]
  },
  {
   "cell_type": "code",
   "execution_count": 21,
   "metadata": {},
   "outputs": [
    {
     "name": "stdout",
     "output_type": "stream",
     "text": [
      "0 days 00:22:53.060533938\n",
      "0 days 00:14:53.999194642\n"
     ]
    }
   ],
   "source": [
    "# Calculate Average Trip Duration for BOTH casual and member user\n",
    "casual_avg_duration = df_filtered[\"Trip Duration\"].where(df[\"member_casual\"] == \"casual\", pd.NaT).mean()\n",
    "member_avg_duration = df_filtered[\"Trip Duration\"].where(df[\"member_casual\"] == \"member\", pd.NaT).mean()\n",
    "# Print result\n",
    "print(casual_avg_duration)\n",
    "print(member_avg_duration)"
   ]
  },
  {
   "cell_type": "markdown",
   "metadata": {},
   "source": [
    "Calculate average ride time for BOTH users BY MONTH\n",
    "\n",
    "*Note: Do NOT set \"started_at\" to index by using set_index(); this will cause an error that columns \"started_at\" do not show columns anymore, which causes an error.*"
   ]
  },
  {
   "cell_type": "code",
   "execution_count": 22,
   "metadata": {},
   "outputs": [
    {
     "name": "stderr",
     "output_type": "stream",
     "text": [
      "/tmp/ipykernel_16179/2243527147.py:2: FutureWarning: 'M' is deprecated and will be removed in a future version, please use 'ME' instead.\n",
      "  casual_avg_by_month = df_filtered[df_filtered[\"member_casual\"] == \"casual\"].groupby(pd.Grouper(key=\"started_at\", freq=\"M\"))[\"Trip Duration\"].mean()\n",
      "/tmp/ipykernel_16179/2243527147.py:5: FutureWarning: 'M' is deprecated and will be removed in a future version, please use 'ME' instead.\n",
      "  member_avg_by_month = df_filtered[df_filtered[\"member_casual\"] == \"member\"].groupby(pd.Grouper(key=\"started_at\", freq=\"M\"))[\"Trip Duration\"].mean()\n"
     ]
    },
    {
     "name": "stdout",
     "output_type": "stream",
     "text": [
      "started_at\n",
      "2023-01-31   0 days 00:16:00.110477890\n",
      "2023-02-28   0 days 00:18:20.009058359\n",
      "2023-03-31   0 days 00:17:47.388589950\n",
      "2023-04-30   0 days 00:22:49.791026056\n",
      "2023-05-31   0 days 00:24:12.094291953\n",
      "2023-06-30   0 days 00:23:31.289591009\n",
      "2023-07-31   0 days 00:24:41.165381829\n",
      "2023-08-31   0 days 00:23:31.416818889\n",
      "2023-09-30   0 days 00:23:13.423851487\n",
      "2023-10-31   0 days 00:21:13.895207632\n",
      "2023-11-30   0 days 00:18:17.730104841\n",
      "Freq: ME, Name: Trip Duration, dtype: timedelta64[ns]\n",
      "started_at\n",
      "2023-01-31   0 days 00:13:16.066499647\n",
      "2023-02-28   0 days 00:13:40.505649916\n",
      "2023-03-31   0 days 00:13:21.714493667\n",
      "2023-04-30   0 days 00:14:32.870335040\n",
      "2023-05-31   0 days 00:15:23.879296180\n",
      "2023-06-30   0 days 00:15:27.659707243\n",
      "2023-07-31   0 days 00:15:47.887915315\n",
      "2023-08-31   0 days 00:15:36.735606285\n",
      "2023-09-30   0 days 00:15:10.543938520\n",
      "2023-10-31   0 days 00:14:13.487945674\n",
      "2023-11-30   0 days 00:13:40.661122561\n",
      "Freq: ME, Name: Trip Duration, dtype: timedelta64[ns]\n"
     ]
    }
   ],
   "source": [
    "# Calculate average ride time for casual users by month\n",
    "casual_avg_by_month = df_filtered[df_filtered[\"member_casual\"] == \"casual\"].groupby(pd.Grouper(key=\"started_at\", freq=\"M\"))[\"Trip Duration\"].mean()\n",
    "\n",
    "# Calculate average ride time for member users by month\n",
    "member_avg_by_month = df_filtered[df_filtered[\"member_casual\"] == \"member\"].groupby(pd.Grouper(key=\"started_at\", freq=\"M\"))[\"Trip Duration\"].mean()\n",
    "\n",
    "print(casual_avg_by_month)\n",
    "print(member_avg_by_month)"
   ]
  },
  {
   "cell_type": "markdown",
   "metadata": {},
   "source": [
    "### 4.3 Day of Week\n",
    "\n",
    "In this part, we will calculate for BOTH user ride on BOTH weekday and weekend\n",
    "\n",
    "Filter out rides that only happen on Weekday"
   ]
  },
  {
   "cell_type": "code",
   "execution_count": 23,
   "metadata": {},
   "outputs": [
    {
     "name": "stderr",
     "output_type": "stream",
     "text": [
      "/tmp/ipykernel_16179/581218481.py:2: SettingWithCopyWarning: \n",
      "A value is trying to be set on a copy of a slice from a DataFrame.\n",
      "Try using .loc[row_indexer,col_indexer] = value instead\n",
      "\n",
      "See the caveats in the documentation: https://pandas.pydata.org/pandas-docs/stable/user_guide/indexing.html#returning-a-view-versus-a-copy\n",
      "  df_filtered[\"Day_of_week\"] = df_filtered[\"started_at\"].dt.dayofweek\n"
     ]
    },
    {
     "data": {
      "text/plain": [
       "1          1\n",
       "2          0\n",
       "4          3\n",
       "7          2\n",
       "8          2\n",
       "          ..\n",
       "5495791    2\n",
       "5495794    3\n",
       "5495796    0\n",
       "5495799    4\n",
       "5495801    4\n",
       "Name: Day_of_week, Length: 3014530, dtype: int32"
      ]
     },
     "execution_count": 23,
     "metadata": {},
     "output_type": "execute_result"
    }
   ],
   "source": [
    "# Create a new column \"day_of_week\"\n",
    "df_filtered[\"Day_of_week\"] = df_filtered[\"started_at\"].dt.dayofweek\n",
    "# Filter out weekend((Saturday=5, Sunday=6))\n",
    "weekday_df = df_filtered[df_filtered[\"Day_of_week\"] < 5]\n",
    "weekday_df[\"Day_of_week\"]"
   ]
  },
  {
   "cell_type": "markdown",
   "metadata": {},
   "source": [
    "Filter out \"day of week\" by BOTH users(Weekday)"
   ]
  },
  {
   "cell_type": "code",
   "execution_count": 24,
   "metadata": {},
   "outputs": [
    {
     "name": "stderr",
     "output_type": "stream",
     "text": [
      "/tmp/ipykernel_16179/3790673704.py:2: SettingWithCopyWarning: \n",
      "A value is trying to be set on a copy of a slice from a DataFrame.\n",
      "Try using .loc[row_indexer,col_indexer] = value instead\n",
      "\n",
      "See the caveats in the documentation: https://pandas.pydata.org/pandas-docs/stable/user_guide/indexing.html#returning-a-view-versus-a-copy\n",
      "  weekday_df[\"Day of Week(Casual)\"] = weekday_df[\"Day_of_week\"].where(df_filtered[\"member_casual\"] == \"casual\", pd.NaT)\n",
      "/tmp/ipykernel_16179/3790673704.py:3: SettingWithCopyWarning: \n",
      "A value is trying to be set on a copy of a slice from a DataFrame.\n",
      "Try using .loc[row_indexer,col_indexer] = value instead\n",
      "\n",
      "See the caveats in the documentation: https://pandas.pydata.org/pandas-docs/stable/user_guide/indexing.html#returning-a-view-versus-a-copy\n",
      "  weekday_df[\"Day of Week(Member)\"] = weekday_df[\"Day_of_week\"].where(df_filtered[\"member_casual\"] == \"member\", pd.NaT)\n"
     ]
    }
   ],
   "source": [
    "# Calculate Day of week for BOTH casual and member user\n",
    "weekday_df[\"Day of Week(Casual)\"] = weekday_df[\"Day_of_week\"].where(df_filtered[\"member_casual\"] == \"casual\", pd.NaT)\n",
    "weekday_df[\"Day of Week(Member)\"] = weekday_df[\"Day_of_week\"].where(df_filtered[\"member_casual\"] == \"member\", pd.NaT)"
   ]
  },
  {
   "cell_type": "markdown",
   "metadata": {},
   "source": [
    "Filter out rides that only happen on Weekend"
   ]
  },
  {
   "cell_type": "code",
   "execution_count": 25,
   "metadata": {},
   "outputs": [
    {
     "data": {
      "text/plain": [
       "0          5\n",
       "3          6\n",
       "6          6\n",
       "30         5\n",
       "37         5\n",
       "          ..\n",
       "5495768    5\n",
       "5495775    5\n",
       "5495788    6\n",
       "5495790    6\n",
       "5495795    5\n",
       "Name: Day_of_week, Length: 1276192, dtype: int32"
      ]
     },
     "execution_count": 25,
     "metadata": {},
     "output_type": "execute_result"
    }
   ],
   "source": [
    "# Filter out weekday(Saturday=5, Sunday=6)\n",
    "weekend_df = df_filtered[(df_filtered[\"Day_of_week\"] == 5) | (df_filtered[\"Day_of_week\"] == 6)] \n",
    "weekend_df[\"Day_of_week\"]"
   ]
  },
  {
   "cell_type": "markdown",
   "metadata": {},
   "source": [
    "Filter out \"day of week\" by BOTH users(Weekend)"
   ]
  },
  {
   "cell_type": "code",
   "execution_count": 26,
   "metadata": {},
   "outputs": [
    {
     "name": "stderr",
     "output_type": "stream",
     "text": [
      "/tmp/ipykernel_16179/2206243739.py:2: SettingWithCopyWarning: \n",
      "A value is trying to be set on a copy of a slice from a DataFrame.\n",
      "Try using .loc[row_indexer,col_indexer] = value instead\n",
      "\n",
      "See the caveats in the documentation: https://pandas.pydata.org/pandas-docs/stable/user_guide/indexing.html#returning-a-view-versus-a-copy\n",
      "  weekend_df[\"Day of Week (Casual)\"] = weekend_df[\"Day_of_week\"].where(weekend_df[\"member_casual\"] == \"casual\")\n",
      "/tmp/ipykernel_16179/2206243739.py:3: SettingWithCopyWarning: \n",
      "A value is trying to be set on a copy of a slice from a DataFrame.\n",
      "Try using .loc[row_indexer,col_indexer] = value instead\n",
      "\n",
      "See the caveats in the documentation: https://pandas.pydata.org/pandas-docs/stable/user_guide/indexing.html#returning-a-view-versus-a-copy\n",
      "  weekend_df[\"Day of Week (Member)\"] = weekend_df[\"Day_of_week\"].where(weekend_df[\"member_casual\"] == \"member\")\n"
     ]
    }
   ],
   "source": [
    "# Assuming weekend_df is your DataFrame filtered for weekends\n",
    "weekend_df[\"Day of Week (Casual)\"] = weekend_df[\"Day_of_week\"].where(weekend_df[\"member_casual\"] == \"casual\")\n",
    "weekend_df[\"Day of Week (Member)\"] = weekend_df[\"Day_of_week\"].where(weekend_df[\"member_casual\"] == \"member\")"
   ]
  },
  {
   "cell_type": "markdown",
   "metadata": {},
   "source": [
    "After we did the analysis, save the file(If needed)."
   ]
  },
  {
   "cell_type": "code",
   "execution_count": 27,
   "metadata": {},
   "outputs": [],
   "source": [
    "# Save file\n",
    "# df.to_csv(\"Cyclistic_Trip_Data.csv\")"
   ]
  },
  {
   "cell_type": "markdown",
   "metadata": {},
   "source": [
    "Finally, we can use describe() again to check data"
   ]
  },
  {
   "cell_type": "code",
   "execution_count": 28,
   "metadata": {},
   "outputs": [
    {
     "data": {
      "text/html": [
       "<div>\n",
       "<style scoped>\n",
       "    .dataframe tbody tr th:only-of-type {\n",
       "        vertical-align: middle;\n",
       "    }\n",
       "\n",
       "    .dataframe tbody tr th {\n",
       "        vertical-align: top;\n",
       "    }\n",
       "\n",
       "    .dataframe thead th {\n",
       "        text-align: right;\n",
       "    }\n",
       "</style>\n",
       "<table border=\"1\" class=\"dataframe\">\n",
       "  <thead>\n",
       "    <tr style=\"text-align: right;\">\n",
       "      <th></th>\n",
       "      <th>started_at</th>\n",
       "      <th>ended_at</th>\n",
       "      <th>Trip Duration</th>\n",
       "      <th>Day_of_week</th>\n",
       "    </tr>\n",
       "  </thead>\n",
       "  <tbody>\n",
       "    <tr>\n",
       "      <th>count</th>\n",
       "      <td>4290722</td>\n",
       "      <td>4290722</td>\n",
       "      <td>4290722</td>\n",
       "      <td>4.290722e+06</td>\n",
       "    </tr>\n",
       "    <tr>\n",
       "      <th>mean</th>\n",
       "      <td>2023-07-11 23:44:18.202374656</td>\n",
       "      <td>2023-07-12 00:02:20.268717056</td>\n",
       "      <td>0 days 00:18:02.066343846</td>\n",
       "      <td>3.075552e+00</td>\n",
       "    </tr>\n",
       "    <tr>\n",
       "      <th>min</th>\n",
       "      <td>2023-01-01 00:02:06</td>\n",
       "      <td>2023-01-01 00:13:21</td>\n",
       "      <td>0 days 00:05:00</td>\n",
       "      <td>0.000000e+00</td>\n",
       "    </tr>\n",
       "    <tr>\n",
       "      <th>25%</th>\n",
       "      <td>2023-05-22 18:01:44</td>\n",
       "      <td>2023-05-22 18:21:07.750000128</td>\n",
       "      <td>0 days 00:08:00</td>\n",
       "      <td>1.000000e+00</td>\n",
       "    </tr>\n",
       "    <tr>\n",
       "      <th>50%</th>\n",
       "      <td>2023-07-17 19:18:47.500000</td>\n",
       "      <td>2023-07-17 19:37:20.500000</td>\n",
       "      <td>0 days 00:12:07</td>\n",
       "      <td>3.000000e+00</td>\n",
       "    </tr>\n",
       "    <tr>\n",
       "      <th>75%</th>\n",
       "      <td>2023-09-08 13:10:39.249999872</td>\n",
       "      <td>2023-09-08 13:25:52</td>\n",
       "      <td>0 days 00:20:01</td>\n",
       "      <td>5.000000e+00</td>\n",
       "    </tr>\n",
       "    <tr>\n",
       "      <th>max</th>\n",
       "      <td>2023-11-30 23:59:14</td>\n",
       "      <td>2023-12-01 08:06:25</td>\n",
       "      <td>0 days 11:59:26</td>\n",
       "      <td>6.000000e+00</td>\n",
       "    </tr>\n",
       "    <tr>\n",
       "      <th>std</th>\n",
       "      <td>NaN</td>\n",
       "      <td>NaN</td>\n",
       "      <td>0 days 00:23:18.804741376</td>\n",
       "      <td>1.959402e+00</td>\n",
       "    </tr>\n",
       "  </tbody>\n",
       "</table>\n",
       "</div>"
      ],
      "text/plain": [
       "                          started_at                       ended_at  \\\n",
       "count                        4290722                        4290722   \n",
       "mean   2023-07-11 23:44:18.202374656  2023-07-12 00:02:20.268717056   \n",
       "min              2023-01-01 00:02:06            2023-01-01 00:13:21   \n",
       "25%              2023-05-22 18:01:44  2023-05-22 18:21:07.750000128   \n",
       "50%       2023-07-17 19:18:47.500000     2023-07-17 19:37:20.500000   \n",
       "75%    2023-09-08 13:10:39.249999872            2023-09-08 13:25:52   \n",
       "max              2023-11-30 23:59:14            2023-12-01 08:06:25   \n",
       "std                              NaN                            NaN   \n",
       "\n",
       "                   Trip Duration   Day_of_week  \n",
       "count                    4290722  4.290722e+06  \n",
       "mean   0 days 00:18:02.066343846  3.075552e+00  \n",
       "min              0 days 00:05:00  0.000000e+00  \n",
       "25%              0 days 00:08:00  1.000000e+00  \n",
       "50%              0 days 00:12:07  3.000000e+00  \n",
       "75%              0 days 00:20:01  5.000000e+00  \n",
       "max              0 days 11:59:26  6.000000e+00  \n",
       "std    0 days 00:23:18.804741376  1.959402e+00  "
      ]
     },
     "execution_count": 28,
     "metadata": {},
     "output_type": "execute_result"
    }
   ],
   "source": [
    "df_filtered.describe()"
   ]
  },
  {
   "cell_type": "markdown",
   "metadata": {},
   "source": [
    "## Step 5 Data Visualization and Conclusion\n",
    "\n",
    "So far, we have completed our analysis. Let's use the result we just analyzed and visualize the data!\n",
    "\n",
    "We will first begin by ratio."
   ]
  },
  {
   "cell_type": "markdown",
   "metadata": {},
   "source": [
    "### 5.1 Proportion\n",
    "\n",
    "#### 5.1.1 User Proportion: Casual User & Member User"
   ]
  },
  {
   "cell_type": "code",
   "execution_count": 29,
   "metadata": {},
   "outputs": [
    {
     "data": {
      "image/png": "[encoded data removed]",
      "text/plain": [
       "<Figure size 640x480 with 1 Axes>"
      ]
     },
     "metadata": {},
     "output_type": "display_data"
    }
   ],
   "source": [
    "plt.pie(ratio_counts, labels=ratio_counts.index, autopct=\"%1.1f%%\", startangle=90)\n",
    "plt.title(\"Proportion of Rides by User Type\")\n",
    "plt.show()"
   ]
  },
  {
   "cell_type": "markdown",
   "metadata": {},
   "source": [
    "**Interpretation**\n",
    "\n",
    "From this chart, we can observe that the majority of rides are taken by members. This shows that there is a strong base of ordinary users who frequently use bike-sharing services.\n",
    "\n",
    "#### 5.1.2: Ratio for Rideable Type"
   ]
  },
  {
   "cell_type": "code",
   "execution_count": 30,
   "metadata": {},
   "outputs": [
    {
     "data": {
      "image/png": "[encoded data removed]",
      "text/plain": [
       "<Figure size 640x480 with 1 Axes>"
      ]
     },
     "metadata": {},
     "output_type": "display_data"
    }
   ],
   "source": [
    "plt.pie(ratio_rideable, labels=ratio_rideable.index, autopct=\"%1.1f%%\", startangle=90)\n",
    "plt.title(\"Proportion of Rides by Rideable Type\")\n",
    "plt.show()"
   ]
  },
  {
   "cell_type": "markdown",
   "metadata": {},
   "source": [
    "**Interpretation**\n",
    "\n",
    "From this chart, Usage for eletric bikes is and classic bikes are indicating that their market shares are roughly equal. This near parity suggests that across the entire user base, there isn't a strong overall preference for one over the other. Both types of bikes are almost equally popular. Docked bikes only account for a extremely small percentage, suggesting that they are not popular at all.\n",
    "\n",
    "\n",
    "#### 5.1.3 Rideable Type by Both Users"
   ]
  },
  {
   "cell_type": "code",
   "execution_count": 31,
   "metadata": {},
   "outputs": [
    {
     "data": {
      "text/plain": [
       "Text(0, 0.5, 'Proportion of Users')"
      ]
     },
     "execution_count": 31,
     "metadata": {},
     "output_type": "execute_result"
    },
    {
     "data": {
      "image/png": "[encoded data removed]",
      "text/plain": [
       "<Figure size 640x480 with 1 Axes>"
      ]
     },
     "metadata": {},
     "output_type": "display_data"
    }
   ],
   "source": [
    "rideable_user_ratio.plot.bar(stacked=True)\n",
    "\n",
    "ind = np.arange(len(rideable_user_ratio))\n",
    "plt.xticks(ind, rideable_user_ratio.index, rotation=\"horizontal\")\n",
    "\n",
    "plt.title(\"Proportion of Casual and Member Users for Each Rideable Type\")\n",
    "plt.xlabel(\"Rideable Type\")\n",
    "plt.ylabel(\"Proportion of Users\")"
   ]
  },
  {
   "cell_type": "markdown",
   "metadata": {},
   "source": [
    "**Interpretation**\n",
    "\n",
    "Non of member user use Docked bikes, indicating member-specific preferences or modes of operation, while e-bikes and classic bikes are used by both user types, with a fairly even distribution, with about a 60-40 split between members and recreational bike users. This suggests that recreational users do not have a strong preference for bike type overall."
   ]
  },
  {
   "cell_type": "markdown",
   "metadata": {},
   "source": [
    "### 5.2 Trip Duration\n",
    "\n",
    "#### 5.2.1 Average Trip Duration for Casual and Member user ####"
   ]
  },
  {
   "cell_type": "code",
   "execution_count": 32,
   "metadata": {},
   "outputs": [
    {
     "data": {
      "image/png": "[encoded data removed]",
      "text/plain": [
       "<Figure size 640x480 with 1 Axes>"
      ]
     },
     "metadata": {},
     "output_type": "display_data"
    }
   ],
   "source": [
    "# Convert time into minutes\n",
    "casual_avg_minutes = casual_avg_duration.total_seconds() / 60\n",
    "member_avg_minutes = member_avg_duration.total_seconds() / 60\n",
    "\n",
    "labels = [\"Casual Users\", \"Member Users\"]\n",
    "average_durations = [casual_avg_minutes, member_avg_minutes]\n",
    "\n",
    "plt.bar(labels, average_durations)\n",
    "\n",
    "plt.xlabel(\"User Type\")\n",
    "plt.ylabel(\"Average Duration (minutes)\")\n",
    "plt.title(\"Average Trip Duration for both types of user\")\n",
    "\n",
    "plt.show()"
   ]
  },
  {
   "cell_type": "markdown",
   "metadata": {},
   "source": [
    "**Interpretation**\n",
    "\n",
    "The bar chart shows that the average trip duration for casual users is approximately one-third longer than that for member users. "
   ]
  },
  {
   "cell_type": "markdown",
   "metadata": {},
   "source": [
    "#### 5.2.2 Average Trip Duration by MONTH for Casual and Member user ####"
   ]
  },
  {
   "cell_type": "code",
   "execution_count": 33,
   "metadata": {},
   "outputs": [
    {
     "data": {
      "image/png": "[encoded data removed]",
      "text/plain": [
       "<Figure size 1000x600 with 1 Axes>"
      ]
     },
     "metadata": {},
     "output_type": "display_data"
    }
   ],
   "source": [
    "# Convert the average trip durations from timedelta to minutes\n",
    "casual_avg_minutes_by_month = casual_avg_by_month.dt.total_seconds() / 60\n",
    "member_avg_minutes_by_month = member_avg_by_month.dt.total_seconds() / 60\n",
    "\n",
    "months = casual_avg_minutes_by_month.index.strftime(\"%Y-%m\")  # Formatting the month as Year-Month\n",
    "casual_averages = casual_avg_minutes_by_month.values\n",
    "member_averages = member_avg_minutes_by_month.values\n",
    "\n",
    "bar_width = 0.35\n",
    "\n",
    "# Set position of bar on X axis\n",
    "r1 = np.arange(len(casual_averages))\n",
    "r2 = [x + bar_width for x in r1]\n",
    "\n",
    "# Make the plot\n",
    "plt.figure(figsize=(10, 6))\n",
    "plt.bar(r1, casual_averages, color=\"blue\", width=bar_width, edgecolor=\"grey\", label=\"Casual Users\")\n",
    "plt.bar(r2, member_averages, color=\"green\", width=bar_width, edgecolor=\"grey\", label=\"Member Users\")\n",
    "\n",
    "# Add xticks on the middle of the group bars\n",
    "plt.xlabel(\"Month\", fontweight=\"bold\")\n",
    "plt.xticks([r + bar_width for r in range(len(casual_averages))], months)\n",
    "\n",
    "plt.title(\"Average Ride Time by User Type and Month\")\n",
    "plt.ylabel(\"Average Duration (minutes)\")\n",
    "plt.legend()\n",
    "\n",
    "plt.show()\n",
    "\n"
   ]
  },
  {
   "cell_type": "markdown",
   "metadata": {},
   "source": [
    "**Interpretation**\n",
    "\n",
    "From the chart we can observe:\n",
    "\n",
    "**Consistent trend:** Across all months, casual users ride longer on average compared to member users. This consistency suggests that casual users continue to ride longer distances year-round.\n",
    "\n",
    "**Seasonal changes:** There appears to be some seasonal changes, with certain months showing large gaps between user types. This could be due to weather conditions, holidays, or other seasonal factors that affect how people use bike sharing services.\n",
    "\n",
    "Another surprising thing is that the January data shows that the average ride time difference between casual users and member users (casual users are only about 3 minutes longer than members on average), which coincides with the data we obtained before (but we have not do data cleaning before)."
   ]
  },
  {
   "cell_type": "markdown",
   "metadata": {},
   "source": [
    "### 5.3 Day of Week\n",
    "\n",
    "#### 5.3.1 Ride in Weekday VS Weekend ####\n"
   ]
  },
  {
   "cell_type": "code",
   "execution_count": 34,
   "metadata": {},
   "outputs": [
    {
     "data": {
      "image/png": "[encoded data removed]",
      "text/plain": [
       "<Figure size 640x480 with 1 Axes>"
      ]
     },
     "metadata": {},
     "output_type": "display_data"
    }
   ],
   "source": [
    "# Calculate the number of rides on weekdays and weekends\n",
    "num_rides_weekday = weekday_df.shape[0]\n",
    "num_rides_weekend = weekend_df.shape[0]\n",
    "\n",
    "# Create labels and corresponding values\n",
    "labels = [\"Weekday\", \"Weekend\"]\n",
    "day_of_the_week_counts = [num_rides_weekday, num_rides_weekend]\n",
    "\n",
    "# Create the bar graph\n",
    "plt.bar(labels, day_of_the_week_counts)\n",
    "\n",
    "# Set the labels and title\n",
    "plt.xlabel(\"Day Type\")\n",
    "plt.ylabel(\"Number of Rides\")\n",
    "plt.title(\"Ride Counts: Weekday vs Weekend\")\n",
    "\n",
    "# Display the plot\n",
    "plt.show()"
   ]
  },
  {
   "cell_type": "markdown",
   "metadata": {},
   "source": [
    "**Interpretation**\n",
    "\n",
    "We can observe from the chart that the number of rides on weekdays is about 2.5 times more than the number of rides on weekends for both types of users. This illustrates that no matter which type of user it is, it is obvious that everyone uses it more frequently on weekdays: Used for regular commuting to work, etc. However, not so much for leisure travel on weekends."
   ]
  },
  {
   "cell_type": "markdown",
   "metadata": {},
   "source": [
    "\n",
    "#### 5.3.2 Ride in Weekday for both types of users ####"
   ]
  },
  {
   "cell_type": "code",
   "execution_count": 35,
   "metadata": {},
   "outputs": [
    {
     "data": {
      "image/png": "[encoded data removed]",
      "text/plain": [
       "<Figure size 1100x600 with 1 Axes>"
      ]
     },
     "metadata": {},
     "output_type": "display_data"
    }
   ],
   "source": [
    "# Count the number of rides for casual and member users on each day of the week\n",
    "weekday_casual_counts = weekday_df[\"Day of Week(Casual)\"].value_counts().sort_index()\n",
    "weekday_member_counts = weekday_df[\"Day of Week(Member)\"].value_counts().sort_index()\n",
    "\n",
    "# Prepare the data for plotting\n",
    "days = [\"Monday\", \"Tuesday\", \"Wednesday\", \"Thursday\", \"Friday\"]\n",
    "casual_counts = [weekday_casual_counts.get(i, 0) for i in range(5)]\n",
    "member_counts = [weekday_member_counts.get(i, 0) for i in range(5)]\n",
    "\n",
    "# Define the width of the bars\n",
    "bar_width = 0.35\n",
    "\n",
    "# Set position of bar on X axis\n",
    "r1 = np.arange(len(casual_counts))\n",
    "r2 = [x + bar_width for x in r1]\n",
    "\n",
    "# Create the bar graph\n",
    "plt.figure(figsize=(11, 6))\n",
    "plt.bar(r1, casual_counts, color=\"blue\", width=bar_width, label=\"Casual Users\")\n",
    "plt.bar(r2, member_counts, color=\"orange\", width=bar_width, label=\"Member Users\")\n",
    "\n",
    "# Add xticks on the middle of the group bars\n",
    "plt.xlabel(\"Day of the Week\", fontweight=\"bold\")\n",
    "plt.xticks([r + bar_width / 2 for r in range(len(casual_counts))], days)\n",
    "\n",
    "plt.title(\"Number of Rides by User Type on Weekdays\")\n",
    "plt.ylabel(\"Number of Rides\")\n",
    "plt.legend()\n",
    "\n",
    "plt.show()\n"
   ]
  },
  {
   "cell_type": "markdown",
   "metadata": {},
   "source": [
    "**Interpretation**\n",
    "\n",
    "From the graphs we can observe that:\n",
    "\n",
    "Member usage is higher on weekdays: Chart shows that member users take approximately twice as many rides on weekdays as casual users. This suggests that members are more likely to use the service on an ongoing basis, perhaps to go to work or school, which typically occurs during the workday."
   ]
  },
  {
   "cell_type": "markdown",
   "metadata": {},
   "source": [
    "#### 5.3.3 Ride in Weekend for both types of users ####"
   ]
  },
  {
   "cell_type": "code",
   "execution_count": 36,
   "metadata": {},
   "outputs": [
    {
     "data": {
      "image/png": "[encoded data removed]",
      "text/plain": [
       "<Figure size 640x480 with 1 Axes>"
      ]
     },
     "metadata": {},
     "output_type": "display_data"
    }
   ],
   "source": [
    "# Filter out rides that only happen for casual users on weekends\n",
    "weekend_casual_df = weekend_df[weekend_df[\"member_casual\"] == \"casual\"]\n",
    "\n",
    "# Filter out rides that only happen for member users on weekends\n",
    "weekend_member_df = weekend_df[weekend_df[\"member_casual\"] == \"member\"]\n",
    "\n",
    "# Count the number of rides for casual and member users on weekends\n",
    "num_rides_weekend_casual = weekend_casual_df.shape[0]\n",
    "num_rides_weekend_member = weekend_member_df.shape[0]\n",
    "\n",
    "# Prepare data for the bar graph\n",
    "labels = [\"Casual\", \"Member\"]\n",
    "weekend_counts = [num_rides_weekend_casual, num_rides_weekend_member]\n",
    "\n",
    "# Create the bar graph\n",
    "plt.bar(labels, weekend_counts)\n",
    "\n",
    "plt.xlabel(\"User Type\")\n",
    "plt.ylabel(\"Number of Rides\")\n",
    "plt.title(\"Ride Counts on Weekends: Casual vs Member\")\n",
    "\n",
    "plt.show()\n"
   ]
  },
  {
   "cell_type": "markdown",
   "metadata": {},
   "source": [
    "**Interpretation**\n",
    "\n",
    "From the graphs we can observe that:\n",
    "\n",
    "Weekend usage comparison: The second graph shows that casual users and member users take relatively similar numbers of rides on weekends. This may indicate that bike sharing services are popular with these two user groups for weekend leisure activities.\n",
    "\n",
    "\n",
    "\n",
    "\n",
    "## 5.4 Overall Conclusion & Suggestion\n",
    "\n",
    "Based on the visualization, we can synthesize the results to answer the question of how annual members and recreational riders use their bikes differently:\n",
    "\n",
    "1. **Proportion of Rides by User Type:** Members make up a larger proportion of the rides compared to casual users. This suggests that members are the more consistent user group, potentially using the service for regular commutes or as a part of their daily routine.\n",
    "2. **Proportion of Rides by Rideable Type:** Both electric and classic bikes are used nearly equally by the overall user base, but docked bikes are used much less. This might indicate a preference for versatility and convenience, as electric and classic bikes may offer more flexibility in terms of parking and availability.\n",
    "3. **Proportion of Casual and Member Users for Each Rideable Type:** Classic bikes and eletric bikes are popular with both types of users. No member users use docked bikes, which may be due to poor convenience or availability.\n",
    "4. **Average Trip Duration:** Casual users have longer trip durations than member users, suggesting that casual users may be using the service more for leisure or exploration, while member users might be using the bikes for more purposeful and routine trips, such as commuting.\n",
    "5. **Average Ride Time by User Type and Month:** There is a seasonal trend visible, with ride times generally longer in warmer months, indicating possible weather-related influence on bike usage. Casual users consistently spend more time per ride than members throughout the year.\n",
    "6. **Ride Counts: Weekday vs Weekend:** There are more rides during weekdays compared to weekends. This could be due to the use of bikes for commuting on weekdays. The difference in the number of rides between casual and member users is much greater on weekdays than on weekends.\n",
    "7. **Ride Counts by User Type on Weekdays:** Members use the service more than casual users on all weekdays, suggesting a strong habit or need for the service during the workweek, likely for commuting.\n",
    "8. **Ride Counts on Weekends:** During weekends, the number of rides by casual and member users is more comparable, indicating that members and casual users alike use the service for leisure or non-commuting activities.\n",
    "\n",
    "From these insights, we can conclude that annual members are likely relying on the bike-sharing service as a regular means of transportation, possibly integrated into their daily routines, particularly on weekdays for commuting. In contrast, casual riders seem to use the service more recreationally, indicated by longer trip durations and a slightly higher proportion of weekend use compared to members.\n",
    "\n",
    "These patterns can inform Cyclistic’s operational and marketing strategies, suggesting a focus on reliability and quick service for members, especially on weekdays, and potentially more targeted marketing towards casual users to convert them into members by emphasizing the benefits of membership for frequent riders. Moreover, promotional activities could be designed to increase casual user engagement during weekdays and to encourage member usage during weekends, potentially through events or special weekend offers.\n",
    "\n",
    "### 5.4.1 What's next..\n",
    "\n",
    "Next, we can consider developing a machine learning model, such as a decision tree, to predict rider behavior. Constructing a model will aid in understanding the factors influencing casual riders to convert into registered members. This predictive insight can then be leveraged to tailor strategies that encourage casual users to become members."
   ]
  }
 ],
 "metadata": {
  "kernelspec": {
   "display_name": "Python 3",
   "language": "python",
   "name": "python3"
  },
  "language_info": {
   "codemirror_mode": {
    "name": "ipython",
    "version": 3
   },
   "file_extension": ".py",
   "mimetype": "text/x-python",
   "name": "python",
   "nbconvert_exporter": "python",
   "pygments_lexer": "ipython3",
   "version": "3.10.13"
  }
 },
 "nbformat": 4,
 "nbformat_minor": 2
}
